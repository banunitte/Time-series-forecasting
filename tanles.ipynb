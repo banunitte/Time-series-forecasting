{
 "cells": [
  {
   "cell_type": "markdown",
   "metadata": {},
   "source": []
  },
  {
   "cell_type": "code",
   "execution_count": null,
   "metadata": {},
   "outputs": [],
   "source": []
  },
  {
   "cell_type": "code",
   "execution_count": 18,
   "metadata": {},
   "outputs": [
    {
     "data": {
      "text/html": [
       "<style>\n",
       "table {float:left}\n",
       "</style>"
      ],
      "text/plain": [
       "<IPython.core.display.HTML object>"
      ]
     },
     "metadata": {},
     "output_type": "display_data"
    }
   ],
   "source": [
    " %%html\n",
    "<style>\n",
    "table {float:left}\n",
    "</style>\n"
   ]
  },
  {
   "cell_type": "markdown",
   "metadata": {},
   "source": [
    "\n",
    "| New model parameters |   \n",
    "| ---  |\n",
    "|n_estimators = 100|\n",
    "|max_samples = 55|\n",
    "|max_features = 0.9|\n",
    "|bootstrap = True|\n",
    "|random_state = 90|\n"
   ]
  },
  {
   "cell_type": "markdown",
   "metadata": {},
   "source": [
    "\n",
    "\n",
    "|Old model parameters  | \n",
    "| --|\n",
    "|max_samples = 'auto'|\n",
    "|max_features (default = 1.0)|\n",
    "|bootstrap = True|\n",
    "|random_state = 90|\n"
   ]
  },
  {
   "cell_type": "markdown",
   "metadata": {},
   "source": [
    "##### On an average the scores are increased post updating the parameters"
   ]
  },
  {
   "cell_type": "code",
   "execution_count": 3,
   "metadata": {},
   "outputs": [
    {
     "data": {
      "image/png": "[encoded data removed]",
      "text/plain": [
       "<Figure size 432x288 with 1 Axes>"
      ]
     },
     "metadata": {
      "needs_background": "light"
     },
     "output_type": "display_data"
    }
   ],
   "source": [
    "import matplotlib.pyplot as plt\n",
    "%matplotlib inline\n",
    "plt.axis('off')\n",
    "plt.arrow(0, 0, 0.5, 0.5, head_width=0.05, head_lengh=0.1, fc='k', ec='k');"
   ]
  },
  {
   "cell_type": "markdown",
   "metadata": {},
   "source": [
    "|Average of Pobi ML Score_old  | Average of Pobi ML Score_new|\n",
    "| --| --|\n",
    "|0.138441615|0.18806632|\n"
   ]
  },
  {
   "cell_type": "markdown",
   "metadata": {},
   "source": [
    "|Count of AlternateID | \n",
    "| --- |\n",
    "|246417|"
   ]
  },
  {
   "attachments": {},
   "cell_type": "markdown",
   "metadata": {},
   "source": [
    "|Row Labels |Count of AlternateID|Count of AlternateID2|\n",
    "| --| --|--|\n",
    "|0 to 10|245515|99.63%|\n",
    "|10 to 20|\t221\t|0.09%|\n",
    "|20 to 30|\t153\t|0.06%|\n",
    "|30 to 40|\t270\t|0.11%|\n",
    "|40 to 50|\t108\t|0.04%|\n",
    "|50 to 60|\t68\t|0.03%|\n",
    "|60 to 70|\t47\t|0.02%|\n",
    "|70 to 80|\t24\t|0.01%|\n",
    "|80 to 90|\t7\t|0.00%|\n",
    "|90 to 100\t|4\t|0.00%|\n",
    "|Grand Total\t|246417\t|100.00%|\n",
    "\n"
   ]
  },
  {
   "attachments": {
    "image.png": {
     "image/png": "[encoded data removed]"
    }
   },
   "cell_type": "markdown",
   "metadata": {},
   "source": [
    "![image.png](attachment:image.png)"
   ]
  }
 ],
 "metadata": {
  "kernelspec": {
   "display_name": "Python 3",
   "language": "python",
   "name": "python3"
  },
  "language_info": {
   "codemirror_mode": {
    "name": "ipython",
    "version": 3
   },
   "file_extension": ".py",
   "mimetype": "text/x-python",
   "name": "python",
   "nbconvert_exporter": "python",
   "pygments_lexer": "ipython3",
   "version": "3.6.8"
  }
 },
 "nbformat": 4,
 "nbformat_minor": 2
}
